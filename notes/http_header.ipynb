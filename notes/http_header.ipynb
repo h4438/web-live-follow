{
 "cells": [
  {
   "cell_type": "code",
   "execution_count": 9,
   "id": "cc669a84-1e03-4398-8f80-382dc121dcbf",
   "metadata": {
    "tags": []
   },
   "outputs": [
    {
     "name": "stdout",
     "output_type": "stream",
     "text": [
      "<Response [200]>\n",
      "{'Server': 'nginx/1.20.1', 'Date': 'Tue, 28 Nov 2023 09:12:03 GMT', 'Content-Type': 'text/html; charset=utf-8', 'Content-Length': '486151', 'Connection': 'close', 'Cache-Control': 'private', 'Set-Cookie': 'cacheflag=1; path=/; HTTPOnly; Secure;SameSite=Lax; secure, ASP.NET_SessionId=5v3uges01ogpp1kjbfgbjbf3; path=/; HTTPOnly; Secure;SameSite=Lax; HttpOnly; SameSite=Lax; secure', 'X-Powered-By': 'ASP.NET', 'X-Frame-Options': 'SAMEORIGIN', 'Strict-Transport-Security': 'max-age=31536000', 'X-Content-Type-Options': 'nosniff', 'Content-Security-Policy': \"default-src 'self' 'unsafe-inline' 'unsafe-eval'  https://www.google-analytics.com    https://stackpath.bootstrapcdn.com       https://storage-vnportal.vnpt.vn       https://fonts.googleapis.com       https://cdnjs.cloudflare.com       https://nchmf.gov.vn       https://baochinhphu.vn       https://fonts.gstatic.com       https://s.chinhphu.vn       https://datafiles.chinhphu.vn       http://datafiles.chinhphu.vn       https://docs.google.com       https://bcp.cdnchinhphu.vn       https://eoffice.mpi.gov.vn       https://emohbackup.moh.gov.vn       https://mic.gov.vn       https://qlvb.moj.gov.vn       http://xlvb.mard.gov.vn       https://www.sbv.gov.vn       https://congkhai.vpcp.vn       http://csdl.ubdt.gov.vn       http://qlcv.moit.gov.vn       https://hscv.monre.gov.vn       http://ketnoi.moet.gov.vn       http://vpdt.moha.gov.vn       http://dichvucong.moet.gov.vn       http://tkgqhs.mofa.gov.vn       http://mof.gov.vn       https://thongkelienthong.tphcm.gov.vn       https://congchuc.quangninh.gov.vn       https://dichvucong.thaibinh.gov.vn       https://motcua.lamdong.gov.vn       https://lienthongvanban.lamdong.gov.vn       https://dvctt.camau.gov.vn       https://hagiang.vnptioffice.vn       https://dichvucong.hagiang.gov.vn       https://thongtin.hanhchinhcong.khanhhoa.gov.vn       https://thongkesolieu.quangnam.gov.vn       https://motcua.daklak.gov.vn       https://dichvucong.bentre.gov.vn       https://dichvucong.hatinh.gov.vn       http://qlvb.ttthdl.binhthuan.gov.vn       https://qlvb.ttthdl.binhthuan.gov.vn       https://motcua.hanam.gov.vn       https://qlvb.thanhhoa.gov.vn       https://vpdt.angiang.gov.vn       https://dichvucong.angiang.gov.vn       https://hscv.quangbinh.gov.vn       https://dichvucong.quangtri.gov.vn       https://thongkevanban.quangtri.gov.vn       https://dhtn.bacgiang.gov.vn       https://tuyenquang.vnptioffice.vn       https://dichvucong.tuyenquang.gov.vn       https://daknong.vnptioffice.vn       https://motcua.daknong.gov.vn       https://nghean.vnptioffice.vn       https://dichvucong.nghean.gov.vn       https://hscv.vinhlong.gov.vn       https://kontum.vnptioffice.vn       https://dichvucong.kontum.gov.vn       https://hanhchinhcong.kontum.gov.vn       http://hscv.dienbien.gov.vn       https://dichvucong.binhphuoc.gov.vn       https://congdichvucong.phuyen.gov.vn       https://phuyen.vnptioffice.vn       https://dichvucong.tiengiang.gov.vn       https://motcua.tiengiang.gov.vn       http://vpdttg.vn       https://ltvb.tayninh.gov.vn       https://tthcc.ictlongan.vn       https://dichvucong.namdinh.gov.vn       https://namdinh.vnptioffice.vn       https://tonghopmotcua.dongthap.gov.vn       https://dichvucong.dongthap.gov.vn       https://motcua.soctrang.gov.vn       https://tracuudvc.dongnai.gov.vn       https://dichvucong.thuathienhue.gov.vn       https://phutho.vnptioffice.vn       https://phutho.vnptigate.vn       https://lienthong.ninhbinh.gov.vn       https://qppl.ninhthuan.gov.vn       https://dichvucong.ninhthuan.gov.vn       https://motcua.vinhphuc.gov.vn       https://dichvucong.langson.gov.vn       https://caobang.vnptigate.vn       https://dichvucong.gialai.gov.vn       https://lienthong.gialai.gov.vn       https://ttlt.quangngai.gov.vn       https://motcua.quangngai.gov.vn       https://laocai.vnptioffice.vn       https://dichvucong.baria-vungtau.gov.vn       https://lienthong.hpnet.vn       https://lienthongdvc.thainguyen.gov.vn       http://servicethdl.thainguyen.gov.vn       https://dichvucong.binhduong.gov.vn       https://dichvucong.baclieu.gov.vn       http://qlvb-baclieu.vnitt.ac.vn       http://qlvb.haugiang.gov.vn       https://dichvucong.dongthap.gov.vn       https://tonghopmotcua.dongthap.gov.vn   https://tl.cdnchinhphu.vn     https://timkiem.chinhphu.vn https://www.googletagmanager.com https://www.google-analytics.com https://tphcm.cdnchinhphu.vn https://stats.g.doubleclick.net https://dichvucong.baclieu.gov.vn https://qlvb.baclieu.gov.vn https://dichvucongportal.hochiminhcity.gov.vn https://sbv.gov.vn\", 'X-Server': '2.2'}\n"
     ]
    }
   ],
   "source": [
    "\n",
    "# import requests module\n",
    "import requests\n",
    "page = 'https://thanhnien.vn/quoc-hoi-chinh-thuc-doi-ten-cho-luc-luong-bao-ve-dan-pho-185231128140129157.htm'\n",
    "page = 'https://admission.tdtu.edu.vn/dai-hoc/nganh-hoc/cong-nghe-ky-thuat-moi-truong-chuyen-nganh-cap-thoat-nuoc-va-moi-truong-nuoc'\n",
    "page = 'https://chinhphu.vn/tinh-hinh-thuc-hien-phat-trien-kinh-texa-hoi-nam-2012/tinh-hinh-kinh-te-xa-hoi-nam-2012-10051323'\n",
    "# Making a get request\n",
    "response = requests.get(page)\n",
    " \n",
    "# print response\n",
    "print(response)\n",
    " \n",
    "# print headers of response\n",
    "print(response.headers)\n"
   ]
  },
  {
   "cell_type": "code",
   "execution_count": 3,
   "id": "87c3bf4b-c6f8-4cf1-853c-493413a2d9d0",
   "metadata": {
    "tags": []
   },
   "outputs": [
    {
     "data": {
      "text/plain": [
       "['__attrs__',\n",
       " '__bool__',\n",
       " '__class__',\n",
       " '__delattr__',\n",
       " '__dict__',\n",
       " '__dir__',\n",
       " '__doc__',\n",
       " '__enter__',\n",
       " '__eq__',\n",
       " '__exit__',\n",
       " '__format__',\n",
       " '__ge__',\n",
       " '__getattribute__',\n",
       " '__getstate__',\n",
       " '__gt__',\n",
       " '__hash__',\n",
       " '__init__',\n",
       " '__init_subclass__',\n",
       " '__iter__',\n",
       " '__le__',\n",
       " '__lt__',\n",
       " '__module__',\n",
       " '__ne__',\n",
       " '__new__',\n",
       " '__nonzero__',\n",
       " '__reduce__',\n",
       " '__reduce_ex__',\n",
       " '__repr__',\n",
       " '__setattr__',\n",
       " '__setstate__',\n",
       " '__sizeof__',\n",
       " '__str__',\n",
       " '__subclasshook__',\n",
       " '__weakref__',\n",
       " '_content',\n",
       " '_content_consumed',\n",
       " '_next',\n",
       " 'apparent_encoding',\n",
       " 'close',\n",
       " 'connection',\n",
       " 'content',\n",
       " 'cookies',\n",
       " 'elapsed',\n",
       " 'encoding',\n",
       " 'headers',\n",
       " 'history',\n",
       " 'is_permanent_redirect',\n",
       " 'is_redirect',\n",
       " 'iter_content',\n",
       " 'iter_lines',\n",
       " 'json',\n",
       " 'links',\n",
       " 'next',\n",
       " 'ok',\n",
       " 'raise_for_status',\n",
       " 'raw',\n",
       " 'reason',\n",
       " 'request',\n",
       " 'status_code',\n",
       " 'text',\n",
       " 'url']"
      ]
     },
     "execution_count": 3,
     "metadata": {},
     "output_type": "execute_result"
    }
   ],
   "source": [
    "resp = response\n",
    "dir(resp)"
   ]
  },
  {
   "cell_type": "code",
   "execution_count": 8,
   "id": "334b3089-e286-4f40-b816-77034c20e3c6",
   "metadata": {
    "tags": []
   },
   "outputs": [
    {
     "ename": "JSONDecodeError",
     "evalue": "Expecting value: line 1 column 1 (char 0)",
     "output_type": "error",
     "traceback": [
      "\u001b[0;31m---------------------------------------------------------------------------\u001b[0m",
      "\u001b[0;31mJSONDecodeError\u001b[0m                           Traceback (most recent call last)",
      "File \u001b[0;32m~/miniconda3/envs/prep/lib/python3.9/site-packages/requests/models.py:971\u001b[0m, in \u001b[0;36mResponse.json\u001b[0;34m(self, **kwargs)\u001b[0m\n\u001b[1;32m    970\u001b[0m \u001b[38;5;28;01mtry\u001b[39;00m:\n\u001b[0;32m--> 971\u001b[0m     \u001b[38;5;28;01mreturn\u001b[39;00m \u001b[43mcomplexjson\u001b[49m\u001b[38;5;241;43m.\u001b[39;49m\u001b[43mloads\u001b[49m\u001b[43m(\u001b[49m\u001b[38;5;28;43mself\u001b[39;49m\u001b[38;5;241;43m.\u001b[39;49m\u001b[43mtext\u001b[49m\u001b[43m,\u001b[49m\u001b[43m \u001b[49m\u001b[38;5;241;43m*\u001b[39;49m\u001b[38;5;241;43m*\u001b[39;49m\u001b[43mkwargs\u001b[49m\u001b[43m)\u001b[49m\n\u001b[1;32m    972\u001b[0m \u001b[38;5;28;01mexcept\u001b[39;00m JSONDecodeError \u001b[38;5;28;01mas\u001b[39;00m e:\n\u001b[1;32m    973\u001b[0m     \u001b[38;5;66;03m# Catch JSON-related errors and raise as requests.JSONDecodeError\u001b[39;00m\n\u001b[1;32m    974\u001b[0m     \u001b[38;5;66;03m# This aliases json.JSONDecodeError and simplejson.JSONDecodeError\u001b[39;00m\n",
      "File \u001b[0;32m~/miniconda3/envs/prep/lib/python3.9/json/__init__.py:346\u001b[0m, in \u001b[0;36mloads\u001b[0;34m(s, cls, object_hook, parse_float, parse_int, parse_constant, object_pairs_hook, **kw)\u001b[0m\n\u001b[1;32m    343\u001b[0m \u001b[38;5;28;01mif\u001b[39;00m (\u001b[38;5;28mcls\u001b[39m \u001b[38;5;129;01mis\u001b[39;00m \u001b[38;5;28;01mNone\u001b[39;00m \u001b[38;5;129;01mand\u001b[39;00m object_hook \u001b[38;5;129;01mis\u001b[39;00m \u001b[38;5;28;01mNone\u001b[39;00m \u001b[38;5;129;01mand\u001b[39;00m\n\u001b[1;32m    344\u001b[0m         parse_int \u001b[38;5;129;01mis\u001b[39;00m \u001b[38;5;28;01mNone\u001b[39;00m \u001b[38;5;129;01mand\u001b[39;00m parse_float \u001b[38;5;129;01mis\u001b[39;00m \u001b[38;5;28;01mNone\u001b[39;00m \u001b[38;5;129;01mand\u001b[39;00m\n\u001b[1;32m    345\u001b[0m         parse_constant \u001b[38;5;129;01mis\u001b[39;00m \u001b[38;5;28;01mNone\u001b[39;00m \u001b[38;5;129;01mand\u001b[39;00m object_pairs_hook \u001b[38;5;129;01mis\u001b[39;00m \u001b[38;5;28;01mNone\u001b[39;00m \u001b[38;5;129;01mand\u001b[39;00m \u001b[38;5;129;01mnot\u001b[39;00m kw):\n\u001b[0;32m--> 346\u001b[0m     \u001b[38;5;28;01mreturn\u001b[39;00m \u001b[43m_default_decoder\u001b[49m\u001b[38;5;241;43m.\u001b[39;49m\u001b[43mdecode\u001b[49m\u001b[43m(\u001b[49m\u001b[43ms\u001b[49m\u001b[43m)\u001b[49m\n\u001b[1;32m    347\u001b[0m \u001b[38;5;28;01mif\u001b[39;00m \u001b[38;5;28mcls\u001b[39m \u001b[38;5;129;01mis\u001b[39;00m \u001b[38;5;28;01mNone\u001b[39;00m:\n",
      "File \u001b[0;32m~/miniconda3/envs/prep/lib/python3.9/json/decoder.py:337\u001b[0m, in \u001b[0;36mJSONDecoder.decode\u001b[0;34m(self, s, _w)\u001b[0m\n\u001b[1;32m    333\u001b[0m \u001b[38;5;250m\u001b[39m\u001b[38;5;124;03m\"\"\"Return the Python representation of ``s`` (a ``str`` instance\u001b[39;00m\n\u001b[1;32m    334\u001b[0m \u001b[38;5;124;03mcontaining a JSON document).\u001b[39;00m\n\u001b[1;32m    335\u001b[0m \n\u001b[1;32m    336\u001b[0m \u001b[38;5;124;03m\"\"\"\u001b[39;00m\n\u001b[0;32m--> 337\u001b[0m obj, end \u001b[38;5;241m=\u001b[39m \u001b[38;5;28;43mself\u001b[39;49m\u001b[38;5;241;43m.\u001b[39;49m\u001b[43mraw_decode\u001b[49m\u001b[43m(\u001b[49m\u001b[43ms\u001b[49m\u001b[43m,\u001b[49m\u001b[43m \u001b[49m\u001b[43midx\u001b[49m\u001b[38;5;241;43m=\u001b[39;49m\u001b[43m_w\u001b[49m\u001b[43m(\u001b[49m\u001b[43ms\u001b[49m\u001b[43m,\u001b[49m\u001b[43m \u001b[49m\u001b[38;5;241;43m0\u001b[39;49m\u001b[43m)\u001b[49m\u001b[38;5;241;43m.\u001b[39;49m\u001b[43mend\u001b[49m\u001b[43m(\u001b[49m\u001b[43m)\u001b[49m\u001b[43m)\u001b[49m\n\u001b[1;32m    338\u001b[0m end \u001b[38;5;241m=\u001b[39m _w(s, end)\u001b[38;5;241m.\u001b[39mend()\n",
      "File \u001b[0;32m~/miniconda3/envs/prep/lib/python3.9/json/decoder.py:355\u001b[0m, in \u001b[0;36mJSONDecoder.raw_decode\u001b[0;34m(self, s, idx)\u001b[0m\n\u001b[1;32m    354\u001b[0m \u001b[38;5;28;01mexcept\u001b[39;00m \u001b[38;5;167;01mStopIteration\u001b[39;00m \u001b[38;5;28;01mas\u001b[39;00m err:\n\u001b[0;32m--> 355\u001b[0m     \u001b[38;5;28;01mraise\u001b[39;00m JSONDecodeError(\u001b[38;5;124m\"\u001b[39m\u001b[38;5;124mExpecting value\u001b[39m\u001b[38;5;124m\"\u001b[39m, s, err\u001b[38;5;241m.\u001b[39mvalue) \u001b[38;5;28;01mfrom\u001b[39;00m \u001b[38;5;28;01mNone\u001b[39;00m\n\u001b[1;32m    356\u001b[0m \u001b[38;5;28;01mreturn\u001b[39;00m obj, end\n",
      "\u001b[0;31mJSONDecodeError\u001b[0m: Expecting value: line 1 column 1 (char 0)",
      "\nDuring handling of the above exception, another exception occurred:\n",
      "\u001b[0;31mJSONDecodeError\u001b[0m                           Traceback (most recent call last)",
      "Cell \u001b[0;32mIn[8], line 1\u001b[0m\n\u001b[0;32m----> 1\u001b[0m \u001b[43mresp\u001b[49m\u001b[38;5;241;43m.\u001b[39;49m\u001b[43mjson\u001b[49m\u001b[43m(\u001b[49m\u001b[43m)\u001b[49m\n",
      "File \u001b[0;32m~/miniconda3/envs/prep/lib/python3.9/site-packages/requests/models.py:975\u001b[0m, in \u001b[0;36mResponse.json\u001b[0;34m(self, **kwargs)\u001b[0m\n\u001b[1;32m    971\u001b[0m     \u001b[38;5;28;01mreturn\u001b[39;00m complexjson\u001b[38;5;241m.\u001b[39mloads(\u001b[38;5;28mself\u001b[39m\u001b[38;5;241m.\u001b[39mtext, \u001b[38;5;241m*\u001b[39m\u001b[38;5;241m*\u001b[39mkwargs)\n\u001b[1;32m    972\u001b[0m \u001b[38;5;28;01mexcept\u001b[39;00m JSONDecodeError \u001b[38;5;28;01mas\u001b[39;00m e:\n\u001b[1;32m    973\u001b[0m     \u001b[38;5;66;03m# Catch JSON-related errors and raise as requests.JSONDecodeError\u001b[39;00m\n\u001b[1;32m    974\u001b[0m     \u001b[38;5;66;03m# This aliases json.JSONDecodeError and simplejson.JSONDecodeError\u001b[39;00m\n\u001b[0;32m--> 975\u001b[0m     \u001b[38;5;28;01mraise\u001b[39;00m RequestsJSONDecodeError(e\u001b[38;5;241m.\u001b[39mmsg, e\u001b[38;5;241m.\u001b[39mdoc, e\u001b[38;5;241m.\u001b[39mpos)\n",
      "\u001b[0;31mJSONDecodeError\u001b[0m: Expecting value: line 1 column 1 (char 0)"
     ]
    }
   ],
   "source": [
    "resp.json()"
   ]
  }
 ],
 "metadata": {
  "kernelspec": {
   "display_name": "Python 3 (ipykernel)",
   "language": "python",
   "name": "python3"
  },
  "language_info": {
   "codemirror_mode": {
    "name": "ipython",
    "version": 3
   },
   "file_extension": ".py",
   "mimetype": "text/x-python",
   "name": "python",
   "nbconvert_exporter": "python",
   "pygments_lexer": "ipython3",
   "version": "3.9.18"
  }
 },
 "nbformat": 4,
 "nbformat_minor": 5
}
