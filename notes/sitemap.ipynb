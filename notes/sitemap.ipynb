{
 "cells": [
  {
   "cell_type": "markdown",
   "id": "d9e1712b-cefa-4379-b88a-0b510c4af805",
   "metadata": {},
   "source": [
    "# Sitemap Download"
   ]
  },
  {
   "cell_type": "code",
   "execution_count": 1,
   "id": "0d286899-82d1-418e-84d2-11defb66ac7d",
   "metadata": {
    "tags": []
   },
   "outputs": [
    {
     "name": "stderr",
     "output_type": "stream",
     "text": [
      "2023-11-30 08:36:19,532 INFO usp.fetch_parse [4444/MainThread]: Fetching level 0 sitemap from https://www.tdtu.edu.vn/robots.txt...\n",
      "2023-11-30 08:36:19,532 INFO usp.helpers [4444/MainThread]: Fetching URL https://www.tdtu.edu.vn/robots.txt...\n",
      "2023-11-30 08:36:19,600 INFO usp.fetch_parse [4444/MainThread]: Parsing sitemap from URL https://www.tdtu.edu.vn/robots.txt...\n",
      "2023-11-30 08:36:19,603 INFO usp.fetch_parse [4444/MainThread]: Fetching level 0 sitemap from https://www.tdtu.edu.vn/sitemap_index.xml.gz...\n",
      "2023-11-30 08:36:19,603 INFO usp.helpers [4444/MainThread]: Fetching URL https://www.tdtu.edu.vn/sitemap_index.xml.gz...\n",
      "2023-11-30 08:36:19,714 WARNING usp.helpers [4444/MainThread]: Request for URL https://www.tdtu.edu.vn/sitemap_index.xml.gz failed: 404 Not Found\n",
      "2023-11-30 08:36:19,715 INFO usp.helpers [4444/MainThread]: Not retrying for URL https://www.tdtu.edu.vn/sitemap_index.xml.gz\n",
      "2023-11-30 08:36:19,716 INFO usp.fetch_parse [4444/MainThread]: Fetching level 0 sitemap from https://www.tdtu.edu.vn/sitemap.xml...\n",
      "2023-11-30 08:36:19,716 INFO usp.helpers [4444/MainThread]: Fetching URL https://www.tdtu.edu.vn/sitemap.xml...\n",
      "2023-11-30 08:36:19,837 INFO usp.fetch_parse [4444/MainThread]: Parsing sitemap from URL https://www.tdtu.edu.vn/sitemap.xml...\n",
      "2023-11-30 08:36:20,009 INFO usp.fetch_parse [4444/MainThread]: Fetching level 0 sitemap from https://www.tdtu.edu.vn/.sitemap.xml...\n",
      "2023-11-30 08:36:20,009 INFO usp.helpers [4444/MainThread]: Fetching URL https://www.tdtu.edu.vn/.sitemap.xml...\n",
      "2023-11-30 08:36:20,068 WARNING usp.helpers [4444/MainThread]: Request for URL https://www.tdtu.edu.vn/.sitemap.xml failed: 403 Forbidden\n",
      "2023-11-30 08:36:20,069 INFO usp.helpers [4444/MainThread]: Not retrying for URL https://www.tdtu.edu.vn/.sitemap.xml\n",
      "2023-11-30 08:36:20,069 INFO usp.fetch_parse [4444/MainThread]: Fetching level 0 sitemap from https://www.tdtu.edu.vn/sitemap.xml.gz...\n",
      "2023-11-30 08:36:20,070 INFO usp.helpers [4444/MainThread]: Fetching URL https://www.tdtu.edu.vn/sitemap.xml.gz...\n",
      "2023-11-30 08:36:20,199 WARNING usp.helpers [4444/MainThread]: Request for URL https://www.tdtu.edu.vn/sitemap.xml.gz failed: 404 Not Found\n",
      "2023-11-30 08:36:20,202 INFO usp.helpers [4444/MainThread]: Not retrying for URL https://www.tdtu.edu.vn/sitemap.xml.gz\n",
      "2023-11-30 08:36:20,204 INFO usp.fetch_parse [4444/MainThread]: Fetching level 0 sitemap from https://www.tdtu.edu.vn/sitemap...\n",
      "2023-11-30 08:36:20,205 INFO usp.helpers [4444/MainThread]: Fetching URL https://www.tdtu.edu.vn/sitemap...\n",
      "2023-11-30 08:36:20,425 INFO usp.fetch_parse [4444/MainThread]: Parsing sitemap from URL https://www.tdtu.edu.vn/sitemap...\n",
      "2023-11-30 08:36:20,426 ERROR usp.fetch_parse [4444/MainThread]: Parsing sitemap from URL https://www.tdtu.edu.vn/sitemap failed: Unsupported root element 'html'.\n",
      "2023-11-30 08:36:20,428 INFO usp.fetch_parse [4444/MainThread]: Fetching level 0 sitemap from https://www.tdtu.edu.vn/sitemap/sitemap-index.xml...\n",
      "2023-11-30 08:36:20,429 INFO usp.helpers [4444/MainThread]: Fetching URL https://www.tdtu.edu.vn/sitemap/sitemap-index.xml...\n",
      "2023-11-30 08:36:20,528 WARNING usp.helpers [4444/MainThread]: Request for URL https://www.tdtu.edu.vn/sitemap/sitemap-index.xml failed: 404 Not Found\n",
      "2023-11-30 08:36:20,529 INFO usp.helpers [4444/MainThread]: Not retrying for URL https://www.tdtu.edu.vn/sitemap/sitemap-index.xml\n",
      "2023-11-30 08:36:20,529 INFO usp.fetch_parse [4444/MainThread]: Fetching level 0 sitemap from https://www.tdtu.edu.vn/sitemap-index.xml...\n",
      "2023-11-30 08:36:20,530 INFO usp.helpers [4444/MainThread]: Fetching URL https://www.tdtu.edu.vn/sitemap-index.xml...\n",
      "2023-11-30 08:36:20,650 WARNING usp.helpers [4444/MainThread]: Request for URL https://www.tdtu.edu.vn/sitemap-index.xml failed: 404 Not Found\n",
      "2023-11-30 08:36:20,652 INFO usp.helpers [4444/MainThread]: Not retrying for URL https://www.tdtu.edu.vn/sitemap-index.xml\n",
      "2023-11-30 08:36:20,653 INFO usp.fetch_parse [4444/MainThread]: Fetching level 0 sitemap from https://www.tdtu.edu.vn/sitemap_index.xml...\n",
      "2023-11-30 08:36:20,656 INFO usp.helpers [4444/MainThread]: Fetching URL https://www.tdtu.edu.vn/sitemap_index.xml...\n",
      "2023-11-30 08:36:20,785 WARNING usp.helpers [4444/MainThread]: Request for URL https://www.tdtu.edu.vn/sitemap_index.xml failed: 404 Not Found\n",
      "2023-11-30 08:36:20,786 INFO usp.helpers [4444/MainThread]: Not retrying for URL https://www.tdtu.edu.vn/sitemap_index.xml\n",
      "2023-11-30 08:36:20,787 INFO usp.fetch_parse [4444/MainThread]: Fetching level 0 sitemap from https://www.tdtu.edu.vn/sitemap-index.xml.gz...\n",
      "2023-11-30 08:36:20,787 INFO usp.helpers [4444/MainThread]: Fetching URL https://www.tdtu.edu.vn/sitemap-index.xml.gz...\n",
      "2023-11-30 08:36:20,923 WARNING usp.helpers [4444/MainThread]: Request for URL https://www.tdtu.edu.vn/sitemap-index.xml.gz failed: 404 Not Found\n",
      "2023-11-30 08:36:20,926 INFO usp.helpers [4444/MainThread]: Not retrying for URL https://www.tdtu.edu.vn/sitemap-index.xml.gz\n",
      "2023-11-30 08:36:20,928 INFO usp.fetch_parse [4444/MainThread]: Fetching level 0 sitemap from https://www.tdtu.edu.vn/admin/config/search/xmlsitemap...\n",
      "2023-11-30 08:36:20,930 INFO usp.helpers [4444/MainThread]: Fetching URL https://www.tdtu.edu.vn/admin/config/search/xmlsitemap...\n",
      "2023-11-30 08:36:21,055 WARNING usp.helpers [4444/MainThread]: Request for URL https://www.tdtu.edu.vn/admin/config/search/xmlsitemap failed: 403 Forbidden\n",
      "2023-11-30 08:36:21,057 INFO usp.helpers [4444/MainThread]: Not retrying for URL https://www.tdtu.edu.vn/admin/config/search/xmlsitemap\n"
     ]
    }
   ],
   "source": [
    "import sys\n",
    "sys.path.append(\"../\")\n",
    "from sitemap import explore_sitemap\n",
    "page = 'https://admission.tdtu.edu.vn/'\n",
    "page = 'https://admission.tdtu.edu.vn/'\n",
    "page = 'https://www.tdtu.edu.vn/'\n",
    "# page = 'https://tdtu.edu.vn/'\n",
    "site = explore_sitemap(page, 'tdtu')"
   ]
  },
  {
   "cell_type": "code",
   "execution_count": 2,
   "id": "952af2de-1e0b-4804-baba-4e2c1bb11192",
   "metadata": {
    "tags": []
   },
   "outputs": [
    {
     "data": {
      "text/plain": [
       "'https://www.tdtu.edu.vn/robots.txt'"
      ]
     },
     "execution_count": 2,
     "metadata": {},
     "output_type": "execute_result"
    }
   ],
   "source": [
    "site.robots"
   ]
  },
  {
   "cell_type": "code",
   "execution_count": 3,
   "id": "a8c16341-531f-4c1c-b34e-8980d9629291",
   "metadata": {
    "tags": []
   },
   "outputs": [
    {
     "data": {
      "text/plain": [
       "'https://www.tdtu.edu.vn/sitemap.xml'"
      ]
     },
     "execution_count": 3,
     "metadata": {},
     "output_type": "execute_result"
    }
   ],
   "source": [
    "site.sitemap"
   ]
  },
  {
   "cell_type": "code",
   "execution_count": 4,
   "id": "ef7b0603-a35c-4da7-9c8b-a736f4cbf927",
   "metadata": {
    "tags": []
   },
   "outputs": [
    {
     "data": {
      "text/plain": [
       "1403"
      ]
     },
     "execution_count": 4,
     "metadata": {},
     "output_type": "execute_result"
    }
   ],
   "source": [
    "len(site.pages)"
   ]
  },
  {
   "cell_type": "code",
   "execution_count": 11,
   "id": "0598b47e-9d3e-4be6-a7f3-ce43d70205c6",
   "metadata": {
    "tags": []
   },
   "outputs": [
    {
     "data": {
      "text/plain": [
       "{'', 'hoi-dong-giao-su-co-so', 'tin-buon', 'tin-tuc', 'tuyen-dung'}"
      ]
     },
     "execution_count": 11,
     "metadata": {},
     "output_type": "execute_result"
    }
   ],
   "source": [
    "def get_sub(url):\n",
    "    url = url.replace(\"//\",\"\")\n",
    "    return url.split(\"/\")[1]\n",
    "\n",
    "\n",
    "a = set([get_sub(p.url) for p in site.pages])\n",
    "a"
   ]
  },
  {
   "cell_type": "code",
   "execution_count": 8,
   "id": "db5dc2d5-9e0a-47bb-bcff-07c8e073259f",
   "metadata": {
    "tags": []
   },
   "outputs": [
    {
     "data": {
      "text/plain": [
       "[IndexRobotsTxtSitemap(url=https://website.understandingdata.com/robots.txt, sub_sitemaps=[IndexXMLSitemap(url=https://website.understandingdata.com/sitemap_index.xml, sub_sitemaps=[PagesXMLSitemap(url=https://website.understandingdata.com/author-sitemap.xml, pages=[SitemapPage(url=https://website.understandingdata.com/author/james-phoenix/, priority=0.5, last_modified=2023-02-21 13:38:09+00:00, change_frequency=None, news_story=None)])])]),\n",
       " IndexXMLSitemap(url=https://website.understandingdata.com/sitemap.xml, sub_sitemaps=[PagesXMLSitemap(url=https://website.understandingdata.com/author-sitemap.xml, pages=[SitemapPage(url=https://website.understandingdata.com/author/james-phoenix/, priority=0.5, last_modified=2023-02-21 13:38:09+00:00, change_frequency=None, news_story=None)])])]"
      ]
     },
     "execution_count": 8,
     "metadata": {},
     "output_type": "execute_result"
    }
   ],
   "source": [
    "# https://website.understandingdata.com/author/james-phoenix/\n",
    "# https://advertools.readthedocs.io/en/master/index.html\n",
    "# https://www.primates.dev/find-all-urls-of-a-website-in-a-few-seconds-python/\n",
    "# https://github.com/c4software/python-sitemap"
   ]
  }
 ],
 "metadata": {
  "kernelspec": {
   "display_name": "Python 3 (ipykernel)",
   "language": "python",
   "name": "python3"
  },
  "language_info": {
   "codemirror_mode": {
    "name": "ipython",
    "version": 3
   },
   "file_extension": ".py",
   "mimetype": "text/x-python",
   "name": "python",
   "nbconvert_exporter": "python",
   "pygments_lexer": "ipython3",
   "version": "3.9.18"
  }
 },
 "nbformat": 4,
 "nbformat_minor": 5
}
