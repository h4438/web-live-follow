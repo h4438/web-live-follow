{
 "cells": [
  {
   "cell_type": "markdown",
   "id": "d9e1712b-cefa-4379-b88a-0b510c4af805",
   "metadata": {},
   "source": [
    "# Sitemap Download"
   ]
  },
  {
   "cell_type": "code",
   "execution_count": 1,
   "id": "0d286899-82d1-418e-84d2-11defb66ac7d",
   "metadata": {
    "tags": []
   },
   "outputs": [
    {
     "name": "stderr",
     "output_type": "stream",
     "text": [
      "2023-11-28 16:16:38,989 INFO usp.fetch_parse [20172/MainThread]: Fetching level 0 sitemap from https://admission.tdtu.edu.vn/robots.txt...\n",
      "2023-11-28 16:16:38,990 INFO usp.helpers [20172/MainThread]: Fetching URL https://admission.tdtu.edu.vn/robots.txt...\n",
      "2023-11-28 16:16:39,157 INFO usp.fetch_parse [20172/MainThread]: Parsing sitemap from URL https://admission.tdtu.edu.vn/robots.txt...\n",
      "2023-11-28 16:16:39,164 INFO usp.fetch_parse [20172/MainThread]: Fetching level 0 sitemap from https://admission.tdtu.edu.vn/sitemap-index.xml.gz...\n",
      "2023-11-28 16:16:39,166 INFO usp.helpers [20172/MainThread]: Fetching URL https://admission.tdtu.edu.vn/sitemap-index.xml.gz...\n",
      "2023-11-28 16:16:39,403 WARNING usp.helpers [20172/MainThread]: Request for URL https://admission.tdtu.edu.vn/sitemap-index.xml.gz failed: 404 Not Found\n",
      "2023-11-28 16:16:39,404 INFO usp.helpers [20172/MainThread]: Not retrying for URL https://admission.tdtu.edu.vn/sitemap-index.xml.gz\n",
      "2023-11-28 16:16:39,407 INFO usp.fetch_parse [20172/MainThread]: Fetching level 0 sitemap from https://admission.tdtu.edu.vn/sitemap_index.xml...\n",
      "2023-11-28 16:16:39,409 INFO usp.helpers [20172/MainThread]: Fetching URL https://admission.tdtu.edu.vn/sitemap_index.xml...\n",
      "2023-11-28 16:16:39,728 WARNING usp.helpers [20172/MainThread]: Request for URL https://admission.tdtu.edu.vn/sitemap_index.xml failed: 404 Not Found\n",
      "2023-11-28 16:16:39,731 INFO usp.helpers [20172/MainThread]: Not retrying for URL https://admission.tdtu.edu.vn/sitemap_index.xml\n",
      "2023-11-28 16:16:39,734 INFO usp.fetch_parse [20172/MainThread]: Fetching level 0 sitemap from https://admission.tdtu.edu.vn/sitemap.xml.gz...\n",
      "2023-11-28 16:16:39,739 INFO usp.helpers [20172/MainThread]: Fetching URL https://admission.tdtu.edu.vn/sitemap.xml.gz...\n",
      "2023-11-28 16:16:40,015 WARNING usp.helpers [20172/MainThread]: Request for URL https://admission.tdtu.edu.vn/sitemap.xml.gz failed: 404 Not Found\n",
      "2023-11-28 16:16:40,020 INFO usp.helpers [20172/MainThread]: Not retrying for URL https://admission.tdtu.edu.vn/sitemap.xml.gz\n",
      "2023-11-28 16:16:40,025 INFO usp.fetch_parse [20172/MainThread]: Fetching level 0 sitemap from https://admission.tdtu.edu.vn/.sitemap.xml...\n",
      "2023-11-28 16:16:40,027 INFO usp.helpers [20172/MainThread]: Fetching URL https://admission.tdtu.edu.vn/.sitemap.xml...\n",
      "2023-11-28 16:16:40,214 WARNING usp.helpers [20172/MainThread]: Request for URL https://admission.tdtu.edu.vn/.sitemap.xml failed: 403 Forbidden\n",
      "2023-11-28 16:16:40,215 INFO usp.helpers [20172/MainThread]: Not retrying for URL https://admission.tdtu.edu.vn/.sitemap.xml\n",
      "2023-11-28 16:16:40,215 INFO usp.fetch_parse [20172/MainThread]: Fetching level 0 sitemap from https://admission.tdtu.edu.vn/sitemap/sitemap-index.xml...\n",
      "2023-11-28 16:16:40,216 INFO usp.helpers [20172/MainThread]: Fetching URL https://admission.tdtu.edu.vn/sitemap/sitemap-index.xml...\n",
      "2023-11-28 16:16:40,512 WARNING usp.helpers [20172/MainThread]: Request for URL https://admission.tdtu.edu.vn/sitemap/sitemap-index.xml failed: 404 Not Found\n",
      "2023-11-28 16:16:40,515 INFO usp.helpers [20172/MainThread]: Not retrying for URL https://admission.tdtu.edu.vn/sitemap/sitemap-index.xml\n",
      "2023-11-28 16:16:40,517 INFO usp.fetch_parse [20172/MainThread]: Fetching level 0 sitemap from https://admission.tdtu.edu.vn/sitemap.xml...\n",
      "2023-11-28 16:16:40,521 INFO usp.helpers [20172/MainThread]: Fetching URL https://admission.tdtu.edu.vn/sitemap.xml...\n",
      "2023-11-28 16:16:40,712 WARNING usp.helpers [20172/MainThread]: Request for URL https://admission.tdtu.edu.vn/sitemap.xml failed: 404 Not Found\n",
      "2023-11-28 16:16:40,715 INFO usp.helpers [20172/MainThread]: Not retrying for URL https://admission.tdtu.edu.vn/sitemap.xml\n",
      "2023-11-28 16:16:40,717 INFO usp.fetch_parse [20172/MainThread]: Fetching level 0 sitemap from https://admission.tdtu.edu.vn/admin/config/search/xmlsitemap...\n",
      "2023-11-28 16:16:40,720 INFO usp.helpers [20172/MainThread]: Fetching URL https://admission.tdtu.edu.vn/admin/config/search/xmlsitemap...\n",
      "2023-11-28 16:16:41,046 WARNING usp.helpers [20172/MainThread]: Request for URL https://admission.tdtu.edu.vn/admin/config/search/xmlsitemap failed: 404 Not Found\n",
      "2023-11-28 16:16:41,048 INFO usp.helpers [20172/MainThread]: Not retrying for URL https://admission.tdtu.edu.vn/admin/config/search/xmlsitemap\n",
      "2023-11-28 16:16:41,050 INFO usp.fetch_parse [20172/MainThread]: Fetching level 0 sitemap from https://admission.tdtu.edu.vn/sitemap_index.xml.gz...\n",
      "2023-11-28 16:16:41,054 INFO usp.helpers [20172/MainThread]: Fetching URL https://admission.tdtu.edu.vn/sitemap_index.xml.gz...\n",
      "2023-11-28 16:16:41,399 WARNING usp.helpers [20172/MainThread]: Request for URL https://admission.tdtu.edu.vn/sitemap_index.xml.gz failed: 404 Not Found\n",
      "2023-11-28 16:16:41,403 INFO usp.helpers [20172/MainThread]: Not retrying for URL https://admission.tdtu.edu.vn/sitemap_index.xml.gz\n",
      "2023-11-28 16:16:41,406 INFO usp.fetch_parse [20172/MainThread]: Fetching level 0 sitemap from https://admission.tdtu.edu.vn/sitemap-index.xml...\n",
      "2023-11-28 16:16:41,409 INFO usp.helpers [20172/MainThread]: Fetching URL https://admission.tdtu.edu.vn/sitemap-index.xml...\n",
      "2023-11-28 16:16:41,835 WARNING usp.helpers [20172/MainThread]: Request for URL https://admission.tdtu.edu.vn/sitemap-index.xml failed: 404 Not Found\n",
      "2023-11-28 16:16:41,837 INFO usp.helpers [20172/MainThread]: Not retrying for URL https://admission.tdtu.edu.vn/sitemap-index.xml\n",
      "2023-11-28 16:16:41,838 INFO usp.fetch_parse [20172/MainThread]: Fetching level 0 sitemap from https://admission.tdtu.edu.vn/sitemap...\n",
      "2023-11-28 16:16:41,839 INFO usp.helpers [20172/MainThread]: Fetching URL https://admission.tdtu.edu.vn/sitemap...\n",
      "2023-11-28 16:16:42,082 WARNING usp.helpers [20172/MainThread]: Request for URL https://admission.tdtu.edu.vn/sitemap failed: 404 Not Found\n",
      "2023-11-28 16:16:42,086 INFO usp.helpers [20172/MainThread]: Not retrying for URL https://admission.tdtu.edu.vn/sitemap\n"
     ]
    },
    {
     "name": "stdout",
     "output_type": "stream",
     "text": [
      "-> Can't find sitemap\n"
     ]
    }
   ],
   "source": [
    "import sys\n",
    "sys.path.append(\"../\")\n",
    "from sitemap import explore_sitemap\n",
    "page = 'https://admission.tdtu.edu.vn/'\n",
    "site = explore_sitemap(page, 'tdtu')"
   ]
  },
  {
   "cell_type": "code",
   "execution_count": 3,
   "id": "952af2de-1e0b-4804-baba-4e2c1bb11192",
   "metadata": {
    "tags": []
   },
   "outputs": [
    {
     "data": {
      "text/plain": [
       "'https://admission.tdtu.edu.vn/robots.txt'"
      ]
     },
     "execution_count": 3,
     "metadata": {},
     "output_type": "execute_result"
    }
   ],
   "source": [
    "site.robots"
   ]
  },
  {
   "cell_type": "code",
   "execution_count": 4,
   "id": "a8c16341-531f-4c1c-b34e-8980d9629291",
   "metadata": {
    "tags": []
   },
   "outputs": [
    {
     "data": {
      "text/plain": [
       "''"
      ]
     },
     "execution_count": 4,
     "metadata": {},
     "output_type": "execute_result"
    }
   ],
   "source": [
    "site.sitemap"
   ]
  },
  {
   "cell_type": "code",
   "execution_count": 8,
   "id": "db5dc2d5-9e0a-47bb-bcff-07c8e073259f",
   "metadata": {
    "tags": []
   },
   "outputs": [
    {
     "data": {
      "text/plain": [
       "[IndexRobotsTxtSitemap(url=https://website.understandingdata.com/robots.txt, sub_sitemaps=[IndexXMLSitemap(url=https://website.understandingdata.com/sitemap_index.xml, sub_sitemaps=[PagesXMLSitemap(url=https://website.understandingdata.com/author-sitemap.xml, pages=[SitemapPage(url=https://website.understandingdata.com/author/james-phoenix/, priority=0.5, last_modified=2023-02-21 13:38:09+00:00, change_frequency=None, news_story=None)])])]),\n",
       " IndexXMLSitemap(url=https://website.understandingdata.com/sitemap.xml, sub_sitemaps=[PagesXMLSitemap(url=https://website.understandingdata.com/author-sitemap.xml, pages=[SitemapPage(url=https://website.understandingdata.com/author/james-phoenix/, priority=0.5, last_modified=2023-02-21 13:38:09+00:00, change_frequency=None, news_story=None)])])]"
      ]
     },
     "execution_count": 8,
     "metadata": {},
     "output_type": "execute_result"
    }
   ],
   "source": [
    "# https://website.understandingdata.com/author/james-phoenix/\n",
    "# https://advertools.readthedocs.io/en/master/index.html\n",
    "# https://www.primates.dev/find-all-urls-of-a-website-in-a-few-seconds-python/\n",
    "# https://github.com/c4software/python-sitemap"
   ]
  }
 ],
 "metadata": {
  "kernelspec": {
   "display_name": "Python 3 (ipykernel)",
   "language": "python",
   "name": "python3"
  },
  "language_info": {
   "codemirror_mode": {
    "name": "ipython",
    "version": 3
   },
   "file_extension": ".py",
   "mimetype": "text/x-python",
   "name": "python",
   "nbconvert_exporter": "python",
   "pygments_lexer": "ipython3",
   "version": "3.9.18"
  }
 },
 "nbformat": 4,
 "nbformat_minor": 5
}
